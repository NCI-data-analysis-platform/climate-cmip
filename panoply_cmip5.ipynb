{
 "cells": [
  {
   "cell_type": "markdown",
   "metadata": {},
   "source": [
    "# Panoply\n",
    "\n",
    "We demonstrate how to use NASA's data viewer [Panoply](http://www.giss.nasa.gov/tools/panoply/) to view file contents and metadata information: \n",
    "\n",
    "* Launching Panoply on the VDI\n",
    "* Working with local files\n",
    "* Working with remote files\n",
    "\n",
    "\n",
    "The following material uses CMIP5 collections, which are available under the Create Commons License 4.0. For more information on the collection and licensing, please click [here](https://geonetwork.nci.org.au/geonetwork/srv/eng/catalog.search#/metadata/f3525_9322_8600_7716) (CMIP5). \n",
    "\n",
    "---"
   ]
  },
  {
   "cell_type": "markdown",
   "metadata": {},
   "source": [
    "- Authors: NCI Virtual Research Environment Team\n",
    "- Keywords: Panoply, CMIP, NetCDF\n",
    "- Create Date: 2019-Jun\n",
    "---"
   ]
  },
  {
   "cell_type": "markdown",
   "metadata": {},
   "source": [
    "\n",
    "### Launching Panoply on the VDI"
   ]
  },
  {
   "cell_type": "markdown",
   "metadata": {},
   "source": [
    "The easiest way to launch Panoply is from the **Applications** menu under the **Science**. \n",
    "\n",
    "![0](./images/panoply0.png)\n",
    "\n",
    "\n",
    "Panoply can also be launched from command line using \"module load\". Make sure the '-multi' option when loading the program this way.\n",
    "\n",
    "Command line usage:\n",
    "\n",
    "> `$ module load panoply/4.6.1`\n",
    "\n",
    "> `$ panoply.sh -multi &`"
   ]
  },
  {
   "cell_type": "markdown",
   "metadata": {},
   "source": [
    "\n",
    "### Working with local files"
   ]
  },
  {
   "cell_type": "markdown",
   "metadata": {},
   "source": [
    "\n",
    "**Opening a dataset**\n",
    "\n",
    "After launching Panoply, an `Open` window will appear.\n",
    "If you already know the full path of your file, you can enter it directly. In this example, we will use inspect some data from the eReefs Data Collection: \n",
    "\n",
    "> /g/data/rr3/publications/CMIP5/output1/CSIRO-BOM/ACCESS1-0/rcp85/day/atmos/day/r1i1p1/latest/tasmax/tasmax_day_ACCESS1-0_rcp85_r1i1p1_20060101-20301231.nc\n",
    "  \n",
    "![1](./images/panoply1_cmip5.png)\n",
    "\n",
    "**Select the `Open` button and a list of the file contents will appear.**\n",
    "\n",
    "When selecting the filename from within the `Datasets` window, the full text representation of the file structure and metadata contents will be visable from the right-hand panel. \n",
    "\n",
    "This shows information about the size, number, and charateristics of both the dimensions and variables within the file. At the bottom of this list, a section called \"global attributes\" will also contain metadata describing any additional information about the file contents. \n",
    "\n",
    "![2](./images/panoply2_cmip5.png)"
   ]
  },
  {
   "cell_type": "markdown",
   "metadata": {},
   "source": [
    "\n",
    "### Plotting"
   ]
  },
  {
   "cell_type": "markdown",
   "metadata": {},
   "source": [
    "To plot data, select the variable you would like to view.  \n",
    "In this example, let's look at the variable \"tasmax\".\n",
    "\n",
    "Next, click the `Create Plot` option (near the File menu).\n",
    "\n",
    "Select `\"Create georeferenced\"` and then \"Create\".\n",
    "\n",
    "![3](./images/panoply3_cmip5.png)\n",
    "\n",
    "\n",
    "A new window will open and display the plot. \n",
    "Use the shortcuts below to zoom in/out of the area of interest. \n",
    "\n",
    "\n",
    "| Keyboard   |  Zoom Shortcut |                         \n",
    "|--------- |---------|\n",
    "| Mac        | Ctrl + Mouse Click (zoom in)|\n",
    "|            | Ctrl + Option + Mouse Click (zoom out) |        \n",
    "| PC         | Ctrl + Mouse Click (zoom in)|\n",
    "|            | Ctrl + Alt + Mouse Click (zoom out) |   \n",
    "\n",
    "![4](./images/panoply4_cmip5.png)\n",
    "\n",
    "\n",
    "Next, let's adjust the time slice we are viewing. It can be changed from within the `Array(s)` tab.\n",
    "In this case of this dataset, the index of time indicate each day counting from the start date of this file. Adjust the value to `4909` (which is date when the NCI data training workshop given at AMOS 2019). \n",
    "\n",
    "![5](./images/panoply5_cmip5.png)\n",
    "\n",
    "Sometimes, you need to adjust the colour scale, navigate to the `Scale` tab.\n",
    "Enter the min/max range manually or select the **Fit to Data** option. \n",
    "\n",
    "![6](./images/panoply6_cmip5.png)\n",
    "\n",
    "Panoply has many additional plotting options.\n",
    "Try adding some contours for example. In this case, the coutours is sparse because of the low resolution of the data. \n",
    "\n",
    "![8](./images/panoply8_cmip5.png)"
   ]
  },
  {
   "cell_type": "markdown",
   "metadata": {},
   "source": [
    "\n",
    "### Adding additional files"
   ]
  },
  {
   "cell_type": "markdown",
   "metadata": {},
   "source": [
    "To open and view more than one file, navigate to the `File` menu and select `Open`.\n",
    "\n",
    "![9](./images/panoply9_cmip5.png)\n",
    "\n",
    "Let's open a similar cmip5 file from a different year:\n",
    "\n",
    "> /g/data/rr3/publications/CMIP5/output1/CSIRO-BOM/ACCESS1-0/rcp85/day/atmos/day/r1i1p1/latest/tasmin/tasmin_day_ACCESS1-0_rcp85_r1i1p1_20060101-20301231.nc\n",
    "  \n",
    "\n",
    "![10](./images/panoply10_cmip5.png)\n",
    "\n",
    "After opening, you should now see the new file appear in the `Datasets` window along with the previous file.\n",
    "\n",
    "![11](./images/panoply11_cmip5.png)"
   ]
  },
  {
   "cell_type": "markdown",
   "metadata": {},
   "source": [
    "\n",
    "### Plotting combined data"
   ]
  },
  {
   "cell_type": "markdown",
   "metadata": {},
   "source": [
    "**The `Combine Plot` option can be used to plot multiple variables within the same plot.** \n",
    "\n",
    "Begin by using the `Create Plot` to again plot the `tasmax` variable from the file (as above) for the date: 2019-Jun-10 by setting time=4909.\n",
    "\n",
    "Next: \n",
    "1. Select the `tasmax` variable from the file \n",
    "2. Click the `Combine Plot` option (up near the top menu).\n",
    "3. Select the existing plot you wish to add the new variable to and click `Combine`.  \n",
    "\n",
    "![12](./images/panoply12_cmip5.png)\n",
    "\n",
    "The existing plot window should update and now display information on 2 arrays. \n",
    "\n",
    "![13](./images/panoply13_cmip5.png)\n",
    "\n",
    "\n",
    "Use the `Plot` options to select how to view the combined data. E.g., plot an average, difference, sum, etc. \n",
    "\n",
    "![14](./images/panoply14_cmip5.png)"
   ]
  },
  {
   "cell_type": "markdown",
   "metadata": {},
   "source": [
    "### Working with remote data through NCI's THREDDS Data Server"
   ]
  },
  {
   "cell_type": "markdown",
   "metadata": {},
   "source": [
    "**Opening a remote dataset**\n",
    "\n",
    "Start by navigating to the THREDDS dataset catalogue page and selecting the `OPeNDAP` access method. We are using a different dataset here.\n",
    "\n",
    "> http://dapds00.nci.org.au/thredds/catalog/ub8/au/FractCov/BS/catalog.html?dataset=ub8-au/FractCov/BS/FractCover.V3_0_1.AnnualMeans.aust.005.BS.nc \n",
    "\n",
    "\n",
    "![15](./images/panoply15.png)\n",
    "\n",
    "\n",
    "Copy the \"Data URL\" from the OPeNDAP Dataset Access Form.\n",
    "\n",
    "![16](./images/panoply16.png)\n",
    "\n",
    "Back within Panoply, navigate to the `File` menu and select `Open Remote Dataset`. \n",
    "\n",
    "![17](./images/panoply17.png)\n",
    "\n",
    "Paste the OPeNDAP Data URL into the next window that appears. \n",
    "\n",
    "![18](./images/panoply18.png)\n",
    "\n",
    "Then you can proceed to view the file and data contents as with local files.\n",
    "\n",
    "![19](./images/panoply19.png)"
   ]
  },
  {
   "cell_type": "markdown",
   "metadata": {},
   "source": [
    "\n",
    "**Browsing THREDDS catalogues**\n",
    "Panoply can also be used to browse a collection of files through a THREDDS catalogue URL. "
   ]
  },
  {
   "cell_type": "markdown",
   "metadata": {},
   "source": [
    "**Begin by navigating to the NCI THREDDS catalogue page for the data collection of interest and copying the page URL. \n",
    "In this example, we will use data from the eReefs collection.** \n",
    "\n",
    "![20](./images/panoply20.png)\n",
    "\n",
    "Within Panoply, navigate to the `File` menu and select `Open Remote Catalog`. \n",
    "\n",
    "![21](./images/panoply21.png)\n",
    "\n",
    "Paste the THREDDS catalogue URL into the next window that appears and select `Load`.\n",
    "\n",
    "![22](./images/panoply22.png)\n",
    "\n",
    "\n",
    "Now under the `Catalogs` tab, a list of all the folders and files within this data catalogue will be listed.\n",
    "To view a particular file, click on the `OPeNDAP` link that is listed under the file information (right-hand panel). This will add the file to the `Datasets` list and you can proceed with viewing the data as above.   \n",
    "\n",
    "![23](./images/panoply23.png)"
   ]
  },
  {
   "cell_type": "markdown",
   "metadata": {},
   "source": [
    "\n",
    "--------------\n",
    "\n",
    "**Additional Panoply reference material:**\n",
    "\n",
    "http://www.meteor.iastate.edu/classes/mt452/EdGCM/Documentation/EdGCM_Panoply.pdf\n",
    "\n",
    "http://www.geo.uni-bremen.de/Interdynamik/images/stories/pdf/visualizing_netcdf_panoply.pdf"
   ]
  }
 ],
 "metadata": {
  "anaconda-cloud": {},
  "kernelspec": {
   "display_name": "Python 3",
   "language": "python",
   "name": "python3"
  },
  "language_info": {
   "codemirror_mode": {
    "name": "ipython",
    "version": 3
   },
   "file_extension": ".py",
   "mimetype": "text/x-python",
   "name": "python",
   "nbconvert_exporter": "python",
   "pygments_lexer": "ipython3",
   "version": "3.7.4"
  }
 },
 "nbformat": 4,
 "nbformat_minor": 4
}
