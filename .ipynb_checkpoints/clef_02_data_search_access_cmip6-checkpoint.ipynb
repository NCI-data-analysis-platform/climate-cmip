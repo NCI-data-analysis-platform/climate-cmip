{
 "cells": [
  {
   "cell_type": "markdown",
   "metadata": {},
   "source": [
    "# Xarray Access CMIP6 Data from NCI"
   ]
  },
  {
   "cell_type": "markdown",
   "metadata": {},
   "source": [
    "\n",
    "\n",
    "In this notebook we demonstrate:\n",
    "\n",
    "* Use Clef CMIPs data searching tool \n",
    "* Programmatic access CMIP6 data\n",
    "\n",
    "This example uses Coupled Model Intercomparison Project (CMIP6) collections. For more information, please visit [data catalogue]( https://geonetwork.nci.org.au/geonetwork/srv/eng/catalog.search#/metadata/f6600_2266_8675_3563) and [terms of use]( https://pcmdi.llnl.gov/CMIP6/TermsOfUse/TermsOfUse6-1.html).\n",
    "\n",
    "---"
   ]
  },
  {
   "cell_type": "markdown",
   "metadata": {},
   "source": [
    "- Authors: NCI Virtual Research Environment Team\n",
    "- Keywords: CMIP, Clef, Xarray\n",
    "- Create Date: 2019-Nov; Update Date: 2020-Apr"
   ]
  },
  {
   "cell_type": "markdown",
   "metadata": {},
   "source": [
    "### Prerequisite\n",
    "\n",
    "To run this notebook on Gadi/VDI, or on your local computer. The following modules are needed:\n",
    "\n",
    "* Clef\n",
    "* Xarray\n",
    "\n",
    "You also need to be a member of the following data project to access the data:\n",
    "* oi10\n",
    "\n",
    "You can request to join the project through [NCI's user account management system](https://my.nci.org.au). "
   ]
  },
  {
   "cell_type": "markdown",
   "metadata": {},
   "source": [
    "## Clef\n",
    "\n",
    "Clef searches the Earth System Grid Federation datasets stored at the Australian National Computational Infrastructure, both data published on the NCI ESGF node as well as files that are locally replicated from other ESGF nodes. For more information about the tool, please visit [Clef's documentation site](https://clef.readthedocs.io/en/latest/gettingstarted.html).\n",
    "\n",
    "Currently it searches for the following datasets:\n",
    "\n",
    "- CMIP5 raijin projects: rr3, where NCI is the primary publisher and al33 for replicas\n",
    "- CMIP6 raijin projects: oi10 for replicas\n",
    "\n",
    "We use Clef to search CMIP5 data path. Clef is available within /g/data/hh5/public/modules analysis3 packages. "
   ]
  },
  {
   "cell_type": "markdown",
   "metadata": {},
   "source": [
    "#### Load Clef "
   ]
  },
  {
   "cell_type": "code",
   "execution_count": null,
   "metadata": {
    "collapsed": true,
    "jupyter": {
     "outputs_hidden": true
    }
   },
   "outputs": [],
   "source": [
    "!module use /g/data3/hh5/public/modules\n",
    "!module load analysis3-20.04"
   ]
  },
  {
   "cell_type": "markdown",
   "metadata": {},
   "source": [
    "### Import python package "
   ]
  },
  {
   "cell_type": "code",
   "execution_count": 1,
   "metadata": {},
   "outputs": [],
   "source": [
    "import xarray as xr\n",
    "%matplotlib inline"
   ]
  },
  {
   "cell_type": "markdown",
   "metadata": {},
   "source": [
    "### Use Clef -cmip6 to serach data"
   ]
  },
  {
   "cell_type": "markdown",
   "metadata": {},
   "source": [
    "First, check out help information to see search options in clef cmip6."
   ]
  },
  {
   "cell_type": "code",
   "execution_count": 49,
   "metadata": {},
   "outputs": [
    {
     "name": "stdout",
     "output_type": "stream",
     "text": [
      "Usage: clef cmip6 [OPTIONS] [QUERY]...\n",
      "\n",
      "  Search ESGF and local database for CMIP6 files\n",
      "\n",
      "  Constraints can be specified multiple times, in which case they are\n",
      "  combined    using OR: -v tas -v tasmin will return anything matching\n",
      "  variable = 'tas' or variable = 'tasmin'. The --latest flag will check ESGF\n",
      "  for the latest version available, this is the default behaviour\n",
      "\n",
      "Options:\n",
      "  -mip, --activity [AerChemMIP|C4MIP|CDRMIP|CFMIP|CMIP|CORDEX|DAMIP|DCPP|DynVarMIP|FAFMIP|GMMIP|GeoMIP|HighResMIP|ISMIP6|LS3MIP|LUMIP|OMIP|PAMIP|PMIP|RFMIP|SIMIP|ScenarioMIP|VIACSAB|VolMIP]\n",
      "  -e, --experiment x              CMIP6 experiment, list of available depends\n",
      "                                  on activity\n",
      "  --source_type [AER|AGCM|AOGCM|BGC|CHEM|ISM|LAND|OGCM|RAD|SLAB]\n",
      "  -t, --table x                   CMIP6 CMOR table: Amon, SIday, Oday ...\n",
      "  -m, --model, --source_id x      CMIP6 model id: GFDL-AM4, CNRM-CM6-1 ...\n",
      "  -v, --variable x                CMIP6 variable name as in filenames\n",
      "  -mi, --member TEXT              CMIP6 member id: <sub-exp-id>-r#i#p#f#\n",
      "  -g, --grid, --grid_label TEXT   CMIP6 grid label: i.e. gn for the model\n",
      "                                  native grid\n",
      "  -nr, --resolution, --nominal_resolution TEXT\n",
      "                                  Approximate resolution: '250 km', pass in\n",
      "                                  quotes\n",
      "  --frequency [1hr|1hrCM|1hrPt|3hr|3hrPt|6hr|6hrPt|day|dec|fx|mon|monC|monPt|subhrPt|yr|yrPt]\n",
      "  --realm [atmos|ocean|land|landIce|seaIce|aerosol|atmosChem|ocnBgchem]\n",
      "  -se, --sub_experiment_id TEXT   Only available for hindcast and forecast\n",
      "                                  experiments: sYYYY\n",
      "  -vl, --variant_label TEXT       Indicates a model variant: r#i#p#f#\n",
      "  --and [variable_id|experiment_id|table_id|realm|frequency|member_id|source_id|source_type|activity_id|grib_label|nominal_resolution|sub_experiment_id]\n",
      "                                  Attributes for which we want to add AND\n",
      "                                  filter, i.e. -v tasmin -v tasmax --and\n",
      "                                  variable_id will return only model/ensemble\n",
      "                                  that have both\n",
      "  --institution TEXT              Modelling group institution id: IPSL, NOAA-\n",
      "                                  GFDL ...\n",
      "  --cf_standard_name TEXT         CF variable standard_name, use instead of\n",
      "                                  variable constraint\n",
      "  --format [file|dataset]         Return output for datasets (default) or\n",
      "                                  individual files\n",
      "  --latest / --all-versions       Return only the latest version or all of\n",
      "                                  them. Default: --latest\n",
      "  --replica / --no-replica        Return both original files and replicas.\n",
      "                                  Default: --no-replica\n",
      "  --distrib / --no-distrib        Distribute search across all ESGF nodes.\n",
      "                                  Default: --distrib\n",
      "  --debug / --no-debug            Show debug output. Default: --no-debug\n",
      "  --help                          Show this message and exit.\n"
     ]
    }
   ],
   "source": [
    "!clef cmip6 --help"
   ]
  },
  {
   "cell_type": "markdown",
   "metadata": {},
   "source": [
    "Then, we will search available temperature and precipitation data in ScenarioMIP. See example below:"
   ]
  },
  {
   "cell_type": "code",
   "execution_count": 50,
   "metadata": {},
   "outputs": [
    {
     "name": "stdout",
     "output_type": "stream",
     "text": [
      "/g/data1b/oi10/replicas/CMIP6/ScenarioMIP/CNRM-CERFACS/CNRM-CM6-1/ssp126/r1i1p1f2/Amon/tas/gr/v20190219/\n",
      "/g/data1b/oi10/replicas/CMIP6/ScenarioMIP/CNRM-CERFACS/CNRM-ESM2-1/ssp126/r1i1p1f2/Amon/tas/gr/v20190328/\n",
      "\n",
      "Everything available on ESGF is also available locally\n"
     ]
    }
   ],
   "source": [
    "!clef cmip6  --activity ScenarioMIP  --experiment  ssp126 --member r1i1p1f2 --table Amon  --variable tas   --grid gr "
   ]
  },
  {
   "cell_type": "markdown",
   "metadata": {},
   "source": [
    "We can then set up values for CMIP6 attributions according to the CleF search results.\n",
    "\n",
    "CMIP6 data are organised according to its global attributes. We can access different data by changing attributes from the below directory:\n",
    "**/g/data1b/oi10/replicas/CMIP6/activity_id/institution_id/source_id/experiment_id\n",
    "/member_id/table_id/variable/grid_label/version/**\n",
    "\n",
    "For more information about CMIP6 drs tree (for more information, see this [documentation](https://docs.google.com/document/d/1h0r8RZr_f3-8egBMMh7aqLwy3snpD6_MrDz1q8n5XUk/edit).\n",
    "\n",
    "In SenarioMIP there are four future pathways of societal development, the Shared Socioeconomic Pathways (SSPs), in which ssp126 is the lowest emission scenario. \n",
    "For information about SenarioMIP scenarios, see here https://www.geosci-model-dev.net/9/3461/2016/   \n",
    "\n",
    "Below, we have set up these attributes in order to get the future projection data under the ssp126 scenario using member 'r1i1p1f2' of CNRM_CM6-1 model simulations as an example. "
   ]
  },
  {
   "cell_type": "markdown",
   "metadata": {},
   "source": [
    "<div class=\"alert alert-warning\">\n",
    "<b>NOTE: </b>Due to different DRS (Directory Reference Structure) between CMIP5 and CMIP6, search syntax using clef is slightly different between two datasets. They have to be strictly consistent with each DRS tree and they are also case sensitive.   \n",
    "</div>"
   ]
  },
  {
   "cell_type": "markdown",
   "metadata": {},
   "source": [
    "Below is an example of using wrong DRS structure to search CMIP data."
   ]
  },
  {
   "cell_type": "code",
   "execution_count": null,
   "metadata": {
    "collapsed": true,
    "jupyter": {
     "outputs_hidden": true
    }
   },
   "outputs": [],
   "source": [
    "!clef cmip5  --activity ScenarioMIP  --source_id  CNRM-CM6-1 --table Amon  --variable tas  --variable pr   --grid gr "
   ]
  },
  {
   "cell_type": "markdown",
   "metadata": {},
   "source": [
    "### Use Xarray to open data"
   ]
  },
  {
   "cell_type": "markdown",
   "metadata": {},
   "source": [
    "#### temperature"
   ]
  },
  {
   "cell_type": "code",
   "execution_count": 2,
   "metadata": {},
   "outputs": [
    {
     "data": {
      "text/html": [
       "<pre>&lt;xarray.DataArray &#x27;tas&#x27; (time: 1032, lat: 128, lon: 256)&gt;\n",
       "[33816576 values with dtype=float32]\n",
       "Coordinates:\n",
       "  * lat      (lat) float64 -88.93 -87.54 -86.14 -84.74 ... 86.14 87.54 88.93\n",
       "  * lon      (lon) float64 0.0 1.406 2.812 4.219 ... 354.4 355.8 357.2 358.6\n",
       "    height   float64 ...\n",
       "  * time     (time) datetime64[ns] 2015-01-16T12:00:00 ... 2100-12-16T12:00:00\n",
       "Attributes:\n",
       "    online_operation:    average\n",
       "    cell_methods:        area: time: mean\n",
       "    interval_operation:  900 s\n",
       "    interval_write:      1 month\n",
       "    standard_name:       air_temperature\n",
       "    description:         Near-Surface Air Temperature\n",
       "    long_name:           Near-Surface Air Temperature\n",
       "    history:             none\n",
       "    units:               K\n",
       "    cell_measures:       area: areacella</pre>"
      ],
      "text/plain": [
       "<xarray.DataArray 'tas' (time: 1032, lat: 128, lon: 256)>\n",
       "[33816576 values with dtype=float32]\n",
       "Coordinates:\n",
       "  * lat      (lat) float64 -88.93 -87.54 -86.14 -84.74 ... 86.14 87.54 88.93\n",
       "  * lon      (lon) float64 0.0 1.406 2.812 4.219 ... 354.4 355.8 357.2 358.6\n",
       "    height   float64 ...\n",
       "  * time     (time) datetime64[ns] 2015-01-16T12:00:00 ... 2100-12-16T12:00:00\n",
       "Attributes:\n",
       "    online_operation:    average\n",
       "    cell_methods:        area: time: mean\n",
       "    interval_operation:  900 s\n",
       "    interval_write:      1 month\n",
       "    standard_name:       air_temperature\n",
       "    description:         Near-Surface Air Temperature\n",
       "    long_name:           Near-Surface Air Temperature\n",
       "    history:             none\n",
       "    units:               K\n",
       "    cell_measures:       area: areacella"
      ]
     },
     "execution_count": 2,
     "metadata": {},
     "output_type": "execute_result"
    }
   ],
   "source": [
    "cmip6Dir='/g/data/oi10/replicas/CMIP6'\n",
    "activity='ScenarioMIP'\n",
    "institute='CNRM-CERFACS'\n",
    "source='CNRM-CM6-1'\n",
    "experiment='ssp126' \n",
    "member='r1i1p1f2'\n",
    "table='Amon'\n",
    "variable='tas'  \n",
    "grid='gr'\n",
    "version='v20190219'\n",
    "period='201501-210012'\n",
    "ds=xr.open_dataset(''+cmip6Dir+'/'+activity+'/'+institute+'/'+source+'/'+experiment+'/'+member+'/'+table+'/'+variable+'/'+grid+'/'+version+'/'+variable+'_'+table+'_'+source+'_'+experiment+'_'+member+'_'+grid+'_'+period+'.nc')\n",
    "tas=ds.tas\n",
    "tas"
   ]
  },
  {
   "cell_type": "markdown",
   "metadata": {},
   "source": [
    "#### precipitation"
   ]
  },
  {
   "cell_type": "code",
   "execution_count": 3,
   "metadata": {},
   "outputs": [
    {
     "data": {
      "text/html": [
       "<pre>&lt;xarray.DataArray &#x27;pr&#x27; (time: 1032, lat: 128, lon: 256)&gt;\n",
       "[33816576 values with dtype=float32]\n",
       "Coordinates:\n",
       "  * lat      (lat) float64 -88.93 -87.54 -86.14 -84.74 ... 86.14 87.54 88.93\n",
       "  * lon      (lon) float64 0.0 1.406 2.812 4.219 ... 354.4 355.8 357.2 358.6\n",
       "  * time     (time) datetime64[ns] 2015-01-16T12:00:00 ... 2100-12-16T12:00:00\n",
       "Attributes:\n",
       "    long_name:           Precipitation\n",
       "    units:               kg m-2 s-1\n",
       "    online_operation:    average\n",
       "    cell_methods:        area: time: mean\n",
       "    interval_operation:  900 s\n",
       "    interval_write:      1 month\n",
       "    standard_name:       precipitation_flux\n",
       "    description:         at surface; includes both liquid and solid phases fr...\n",
       "    history:             none\n",
       "    cell_measures:       area: areacella</pre>"
      ],
      "text/plain": [
       "<xarray.DataArray 'pr' (time: 1032, lat: 128, lon: 256)>\n",
       "[33816576 values with dtype=float32]\n",
       "Coordinates:\n",
       "  * lat      (lat) float64 -88.93 -87.54 -86.14 -84.74 ... 86.14 87.54 88.93\n",
       "  * lon      (lon) float64 0.0 1.406 2.812 4.219 ... 354.4 355.8 357.2 358.6\n",
       "  * time     (time) datetime64[ns] 2015-01-16T12:00:00 ... 2100-12-16T12:00:00\n",
       "Attributes:\n",
       "    long_name:           Precipitation\n",
       "    units:               kg m-2 s-1\n",
       "    online_operation:    average\n",
       "    cell_methods:        area: time: mean\n",
       "    interval_operation:  900 s\n",
       "    interval_write:      1 month\n",
       "    standard_name:       precipitation_flux\n",
       "    description:         at surface; includes both liquid and solid phases fr...\n",
       "    history:             none\n",
       "    cell_measures:       area: areacella"
      ]
     },
     "execution_count": 3,
     "metadata": {},
     "output_type": "execute_result"
    }
   ],
   "source": [
    "cmip6Dir='/g/data/oi10/replicas/CMIP6'\n",
    "activity='ScenarioMIP'\n",
    "institute='CNRM-CERFACS'\n",
    "source='CNRM-CM6-1'\n",
    "experiment='ssp126' \n",
    "member='r1i1p1f2'\n",
    "table='Amon'\n",
    "variable='pr'  \n",
    "grid='gr'\n",
    "version='v20190219'\n",
    "period='201501-210012'\n",
    "ds=xr.open_dataset(''+cmip6Dir+'/'+activity+'/'+institute+'/'+source+'/'+experiment+'/'+member+'/'+table+'/'+variable+'/'+grid+'/'+version+'/'+variable+'_'+table+'_'+source+'_'+experiment+'_'+member+'_'+grid+'_'+period+'.nc')\n",
    "pr=ds.pr\n",
    "pr"
   ]
  },
  {
   "cell_type": "markdown",
   "metadata": {},
   "source": [
    "#### You can then loop over multiple datasets using the formular above.\n",
    "\n",
    "Now show the multiple files:"
   ]
  },
  {
   "cell_type": "code",
   "execution_count": null,
   "metadata": {},
   "outputs": [],
   "source": [
    "!ls /g/data/oi10/replicas/CMIP6/CMIP/CNRM-CERFACS/CNRM-CM6-1/historical/r1i1p1f2/3hr/pr/gr/v20180917/ "
   ]
  },
  {
   "cell_type": "code",
   "execution_count": 8,
   "metadata": {},
   "outputs": [
    {
     "data": {
      "text/plain": [
       "['/g/data/oi10/replicas/CMIP6/CMIP/CNRM-CERFACS/CNRM-CM6-1/historical/r1i1p1f2/3hr/pr/gr/v20180917/pr_3hr_CNRM-CM6-1_historical_r1i1p1f2_gr_185001010130-185912312230.nc',\n",
       " '/g/data/oi10/replicas/CMIP6/CMIP/CNRM-CERFACS/CNRM-CM6-1/historical/r1i1p1f2/3hr/pr/gr/v20180917/pr_3hr_CNRM-CM6-1_historical_r1i1p1f2_gr_186001010130-186912312230.nc',\n",
       " '/g/data/oi10/replicas/CMIP6/CMIP/CNRM-CERFACS/CNRM-CM6-1/historical/r1i1p1f2/3hr/pr/gr/v20180917/pr_3hr_CNRM-CM6-1_historical_r1i1p1f2_gr_187001010130-187912312230.nc',\n",
       " '/g/data/oi10/replicas/CMIP6/CMIP/CNRM-CERFACS/CNRM-CM6-1/historical/r1i1p1f2/3hr/pr/gr/v20180917/pr_3hr_CNRM-CM6-1_historical_r1i1p1f2_gr_188001010130-188912312230.nc',\n",
       " '/g/data/oi10/replicas/CMIP6/CMIP/CNRM-CERFACS/CNRM-CM6-1/historical/r1i1p1f2/3hr/pr/gr/v20180917/pr_3hr_CNRM-CM6-1_historical_r1i1p1f2_gr_189001010130-189912312230.nc',\n",
       " '/g/data/oi10/replicas/CMIP6/CMIP/CNRM-CERFACS/CNRM-CM6-1/historical/r1i1p1f2/3hr/pr/gr/v20180917/pr_3hr_CNRM-CM6-1_historical_r1i1p1f2_gr_190001010130-190912312230.nc',\n",
       " '/g/data/oi10/replicas/CMIP6/CMIP/CNRM-CERFACS/CNRM-CM6-1/historical/r1i1p1f2/3hr/pr/gr/v20180917/pr_3hr_CNRM-CM6-1_historical_r1i1p1f2_gr_191001010130-191912312230.nc',\n",
       " '/g/data/oi10/replicas/CMIP6/CMIP/CNRM-CERFACS/CNRM-CM6-1/historical/r1i1p1f2/3hr/pr/gr/v20180917/pr_3hr_CNRM-CM6-1_historical_r1i1p1f2_gr_192001010130-192912312230.nc',\n",
       " '/g/data/oi10/replicas/CMIP6/CMIP/CNRM-CERFACS/CNRM-CM6-1/historical/r1i1p1f2/3hr/pr/gr/v20180917/pr_3hr_CNRM-CM6-1_historical_r1i1p1f2_gr_193001010130-193912312230.nc',\n",
       " '/g/data/oi10/replicas/CMIP6/CMIP/CNRM-CERFACS/CNRM-CM6-1/historical/r1i1p1f2/3hr/pr/gr/v20180917/pr_3hr_CNRM-CM6-1_historical_r1i1p1f2_gr_194001010130-194912312230.nc',\n",
       " '/g/data/oi10/replicas/CMIP6/CMIP/CNRM-CERFACS/CNRM-CM6-1/historical/r1i1p1f2/3hr/pr/gr/v20180917/pr_3hr_CNRM-CM6-1_historical_r1i1p1f2_gr_195001010130-195912312230.nc',\n",
       " '/g/data/oi10/replicas/CMIP6/CMIP/CNRM-CERFACS/CNRM-CM6-1/historical/r1i1p1f2/3hr/pr/gr/v20180917/pr_3hr_CNRM-CM6-1_historical_r1i1p1f2_gr_196001010130-196912312230.nc',\n",
       " '/g/data/oi10/replicas/CMIP6/CMIP/CNRM-CERFACS/CNRM-CM6-1/historical/r1i1p1f2/3hr/pr/gr/v20180917/pr_3hr_CNRM-CM6-1_historical_r1i1p1f2_gr_197001010130-197912312230.nc',\n",
       " '/g/data/oi10/replicas/CMIP6/CMIP/CNRM-CERFACS/CNRM-CM6-1/historical/r1i1p1f2/3hr/pr/gr/v20180917/pr_3hr_CNRM-CM6-1_historical_r1i1p1f2_gr_198001010130-198912312230.nc',\n",
       " '/g/data/oi10/replicas/CMIP6/CMIP/CNRM-CERFACS/CNRM-CM6-1/historical/r1i1p1f2/3hr/pr/gr/v20180917/pr_3hr_CNRM-CM6-1_historical_r1i1p1f2_gr_199001010130-199912312230.nc']"
      ]
     },
     "execution_count": 8,
     "metadata": {},
     "output_type": "execute_result"
    }
   ],
   "source": [
    "cmip6Dir='/g/data/oi10/replicas/CMIP6'\n",
    "activity='CMIP'\n",
    "institute='CNRM-CERFACS'\n",
    "source='CNRM-CM6-1'\n",
    "experiment='historical' \n",
    "member='r1i1p1f2'\n",
    "table='3hr'\n",
    "variable='pr'  \n",
    "grid='gr'\n",
    "version='v20180917'\n",
    "files=[f'{cmip6Dir}/{activity}/{institute}/{source}/{experiment}/{member}/{table}/{variable}/{grid}/{version}/{variable}_{table}_{source}_{experiment}_{member}_{grid}_{year}01010130-{year+9}12312230.nc' for year in range(1850, 2000, 10)]\n",
    "files"
   ]
  },
  {
   "cell_type": "code",
   "execution_count": null,
   "metadata": {},
   "outputs": [],
   "source": [
    "ds=xr.open_mfdataset(files)\n",
    "pr=ds.pr\n",
    "pr"
   ]
  },
  {
   "cell_type": "markdown",
   "metadata": {},
   "source": [
    "### Summary\n",
    "\n",
    "In this example, we show how to use Clef tool to search the available CMIP6 data on Gadi and use xarray to open one dataset or programmatically open multiple datasets at onece based on CMIP6 Directory Reference Structure."
   ]
  }
 ],
 "metadata": {
  "kernelspec": {
   "display_name": "Python 3",
   "language": "python",
   "name": "python3"
  },
  "language_info": {
   "codemirror_mode": {
    "name": "ipython",
    "version": 3
   },
   "file_extension": ".py",
   "mimetype": "text/x-python",
   "name": "python",
   "nbconvert_exporter": "python",
   "pygments_lexer": "ipython3",
   "version": "3.7.4"
  }
 },
 "nbformat": 4,
 "nbformat_minor": 4
}
