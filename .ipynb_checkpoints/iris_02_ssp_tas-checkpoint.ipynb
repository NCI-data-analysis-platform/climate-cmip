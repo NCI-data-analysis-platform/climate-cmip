{
 "cells": [
  {
   "cell_type": "markdown",
   "metadata": {},
   "source": [
    "# IRIS SSP tas\n",
    "\n",
    "\n",
    "This example uses IRIS to calculate and plot global average temeprature trend for SSP585 future senario.\n",
    "\n",
    "In this notebook we demonstrate:\n",
    "\n",
    "- Use IRIS to load data  \n",
    "- Use IRIS to calculate weighted global average\n",
    "- Use IRIS to calculate annual average\n",
    "\n",
    "The following material uses Coupled Model Intercomparison Project (CMIP6) collections. The CMIP6 terms of use are found [here](https://pcmdi.llnl.gov/CMIP6/TermsOfUse/TermsOfUse6-1.html). For more information on the collection, please click [here]( https://geonetwork.nci.org.au/geonetwork/srv/eng/catalog.search#/metadata/f6600_2266_8675_3563).\n",
    "\n",
    "---\n"
   ]
  },
  {
   "cell_type": "markdown",
   "metadata": {},
   "source": [
    "- Authors:  virtual research environment team at NCI\n",
    "- Keywords: CMIP6, IRIS\n",
    "- Create Date: 2020-Sep\n",
    "---"
   ]
  },
  {
   "cell_type": "code",
   "execution_count": 9,
   "metadata": {},
   "outputs": [],
   "source": [
    "import iris"
   ]
  },
  {
   "cell_type": "code",
   "execution_count": 10,
   "metadata": {
    "scrolled": true
   },
   "outputs": [
    {
     "name": "stdout",
     "output_type": "stream",
     "text": [
      "tas_Amon_CNRM-CM6-1_ssp585_r1i1p1f2_gr_201501-210012.nc\n"
     ]
    }
   ],
   "source": [
    "!ls /g/data/oi10/replicas/CMIP6/ScenarioMIP/CNRM-CERFACS/CNRM-CM6-1/ssp585/r1i1p1f2/Amon/tas/gr/v20190219/"
   ]
  },
  {
   "cell_type": "markdown",
   "metadata": {},
   "source": [
    "### Load data"
   ]
  },
  {
   "cell_type": "code",
   "execution_count": 11,
   "metadata": {},
   "outputs": [
    {
     "name": "stdout",
     "output_type": "stream",
     "text": [
      "air_temperature / (K)               (time: 1032; latitude: 128; longitude: 256)\n",
      "     Dimension coordinates:\n",
      "          time                           x               -               -\n",
      "          latitude                       -               x               -\n",
      "          longitude                      -               -               x\n",
      "     Scalar coordinates:\n",
      "          height: 2.0 m\n",
      "     Attributes:\n",
      "          CMIP6_CV_version: cv=6.2.3.0-7-g2019642\n",
      "          Conventions: CF-1.7 CMIP-6.2\n",
      "          EXPID: CNRM-CM6-1_ssp585_r1i1p1f2\n",
      "          activity_id: ScenarioMIP\n",
      "          arpege_minor_version: 6.3.2\n",
      "          branch_method: standard\n",
      "          branch_time_in_child: 60265.0\n",
      "          branch_time_in_parent: 60265.0\n",
      "          contact: contact.cmip@meteo.fr\n",
      "          creation_date: 2018-11-15T10:50:50Z\n",
      "          data_specs_version: 01.00.21\n",
      "          description: Near-Surface Air Temperature\n",
      "          dr2xml_md5sum: c2dce418e78ca835be1e2ff817c2c403\n",
      "          dr2xml_version: 1.16\n",
      "          experiment: update of RCP8.5 based on SSP5\n",
      "          experiment_id: ssp585\n",
      "          external_variables: areacella\n",
      "          forcing_index: 2\n",
      "          frequency: mon\n",
      "          further_info_url: https://furtherinfo.es-doc.org/CMIP6.CNRM-CERFACS.CNRM-CM6-1.ssp585.no...\n",
      "          grid: data regridded to a T127 gaussian grid (128x256 latlon) from a native atmosphere...\n",
      "          grid_label: gr\n",
      "          history: none\n",
      "          initialization_index: 1\n",
      "          institution: CNRM (Centre National de Recherches Meteorologiques, Toulouse 31057, France),...\n",
      "          institution_id: CNRM-CERFACS\n",
      "          interval_operation: 900 s\n",
      "          interval_write: 1 month\n",
      "          license: CMIP6 model data produced by CNRM-CERFACS is licensed under a Creative...\n",
      "          mip_era: CMIP6\n",
      "          nemo_gelato_commit: 49095b3accd5d4c_6524fe19b00467a\n",
      "          nominal_resolution: 250 km\n",
      "          online_operation: average\n",
      "          parent_activity_id: CMIP\n",
      "          parent_experiment_id: historical\n",
      "          parent_mip_era: CMIP6\n",
      "          parent_source_id: CNRM-CM6-1\n",
      "          parent_time_units: days since 1850-01-01 00:00:00\n",
      "          parent_variant_label: r1i1p1f2\n",
      "          physics_index: 1\n",
      "          product: model-output\n",
      "          realization_index: 1\n",
      "          realm: atmos\n",
      "          references: http://www.umr-cnrm.fr/cmip6/references\n",
      "          source: CNRM-CM6-1 (2017):  aerosol: prescribed monthly fields computed by TACTIC_v2...\n",
      "          source_id: CNRM-CM6-1\n",
      "          source_type: AOGCM\n",
      "          sub_experiment: none\n",
      "          sub_experiment_id: none\n",
      "          table_id: Amon\n",
      "          title: CNRM-CM6-1 model output prepared for CMIP6 / ScenarioMIP ssp585\n",
      "          tracking_id: hdl:21.14100/a4acca74-001d-4953-b6a1-29086f2749b1\n",
      "          variable_id: tas\n",
      "          variant_label: r1i1p1f2\n",
      "          xios_commit: 1442-shuffle\n",
      "     Cell methods:\n",
      "          mean: area, time\n"
     ]
    },
    {
     "name": "stderr",
     "output_type": "stream",
     "text": [
      "/g/data3/hh5/public/apps/miniconda3/envs/analysis3-20.04/lib/python3.7/site-packages/iris/fileformats/cf.py:803: UserWarning: Missing CF-netCDF measure variable 'areacella', referenced by netCDF variable 'tas'\n",
      "  warnings.warn(message % (variable_name, nc_var_name))\n"
     ]
    }
   ],
   "source": [
    "file='/g/data/oi10/replicas/CMIP6/ScenarioMIP/CNRM-CERFACS/CNRM-CM6-1/ssp585/r1i1p1f2/Amon/tas/gr/v20190219/tas_Amon_CNRM-CM6-1_ssp585_r1i1p1f2_gr_201501-210012.nc'\n",
    "cube=iris.load_cube(file, 'air_temperature')\n",
    "print(cube)"
   ]
  },
  {
   "cell_type": "code",
   "execution_count": 12,
   "metadata": {},
   "outputs": [],
   "source": [
    "#Alternatively, IRIS can access data from thredds\n",
    "#url=\"http://dapds00.nci.org.au/thredds/dodsC/ua6_4/CMIP5/derived/CMIP5/GCM/regional/ENSEMBLE/P10/rcp85/mon/atmos/Amon/r1i1p1/v20140516/tas/seasavg-timeseries-abs-change-g-nrm/tas_Amon_P10_rcp85_r1i1p1_2006-209911-abs-change-wrt-1950-2005-seasavg-timeseries_native_g-nrm.nc\"\n",
    "#cube = iris.load( \"http://dapds00.nci.org.au/thredds/wcs/ua6_4/CMIP5/derived/CMIP5/GCM/regional/ENSEMBLE/P10/rcp85/mon/atmos/Amon/r1i1p1/v20140516/tas/seasavg-timeseries-abs-change-g-nrm\" )"
   ]
  },
  {
   "cell_type": "markdown",
   "metadata": {},
   "source": [
    "### Calculate data"
   ]
  },
  {
   "cell_type": "code",
   "execution_count": 13,
   "metadata": {},
   "outputs": [
    {
     "name": "stdout",
     "output_type": "stream",
     "text": [
      "air_temperature / (K)               (time: 1032; latitude: 128; longitude: 256)\n",
      "     Dimension coordinates:\n",
      "          time                           x               -               -\n",
      "          latitude                       -               x               -\n",
      "          longitude                      -               -               x\n",
      "     Auxiliary coordinates:\n",
      "          clim_year                      x               -               -\n",
      "     Scalar coordinates:\n",
      "          height: 2.0 m\n",
      "     Attributes:\n",
      "          CMIP6_CV_version: cv=6.2.3.0-7-g2019642\n",
      "          Conventions: CF-1.7 CMIP-6.2\n",
      "          EXPID: CNRM-CM6-1_ssp585_r1i1p1f2\n",
      "          activity_id: ScenarioMIP\n",
      "          arpege_minor_version: 6.3.2\n",
      "          branch_method: standard\n",
      "          branch_time_in_child: 60265.0\n",
      "          branch_time_in_parent: 60265.0\n",
      "          contact: contact.cmip@meteo.fr\n",
      "          creation_date: 2018-11-15T10:50:50Z\n",
      "          data_specs_version: 01.00.21\n",
      "          description: Near-Surface Air Temperature\n",
      "          dr2xml_md5sum: c2dce418e78ca835be1e2ff817c2c403\n",
      "          dr2xml_version: 1.16\n",
      "          experiment: update of RCP8.5 based on SSP5\n",
      "          experiment_id: ssp585\n",
      "          external_variables: areacella\n",
      "          forcing_index: 2\n",
      "          frequency: mon\n",
      "          further_info_url: https://furtherinfo.es-doc.org/CMIP6.CNRM-CERFACS.CNRM-CM6-1.ssp585.no...\n",
      "          grid: data regridded to a T127 gaussian grid (128x256 latlon) from a native atmosphere...\n",
      "          grid_label: gr\n",
      "          history: none\n",
      "          initialization_index: 1\n",
      "          institution: CNRM (Centre National de Recherches Meteorologiques, Toulouse 31057, France),...\n",
      "          institution_id: CNRM-CERFACS\n",
      "          interval_operation: 900 s\n",
      "          interval_write: 1 month\n",
      "          license: CMIP6 model data produced by CNRM-CERFACS is licensed under a Creative...\n",
      "          mip_era: CMIP6\n",
      "          nemo_gelato_commit: 49095b3accd5d4c_6524fe19b00467a\n",
      "          nominal_resolution: 250 km\n",
      "          online_operation: average\n",
      "          parent_activity_id: CMIP\n",
      "          parent_experiment_id: historical\n",
      "          parent_mip_era: CMIP6\n",
      "          parent_source_id: CNRM-CM6-1\n",
      "          parent_time_units: days since 1850-01-01 00:00:00\n",
      "          parent_variant_label: r1i1p1f2\n",
      "          physics_index: 1\n",
      "          product: model-output\n",
      "          realization_index: 1\n",
      "          realm: atmos\n",
      "          references: http://www.umr-cnrm.fr/cmip6/references\n",
      "          source: CNRM-CM6-1 (2017):  aerosol: prescribed monthly fields computed by TACTIC_v2...\n",
      "          source_id: CNRM-CM6-1\n",
      "          source_type: AOGCM\n",
      "          sub_experiment: none\n",
      "          sub_experiment_id: none\n",
      "          table_id: Amon\n",
      "          title: CNRM-CM6-1 model output prepared for CMIP6 / ScenarioMIP ssp585\n",
      "          tracking_id: hdl:21.14100/a4acca74-001d-4953-b6a1-29086f2749b1\n",
      "          variable_id: tas\n",
      "          variant_label: r1i1p1f2\n",
      "          xios_commit: 1442-shuffle\n",
      "     Cell methods:\n",
      "          mean: area, time\n"
     ]
    }
   ],
   "source": [
    "# add 'clim_year' to store annual data\n",
    "import iris.coord_categorisation\n",
    "cube_year=iris.coord_categorisation.add_year(cube, 'time', name='clim_year')\n",
    "print(cube)"
   ]
  },
  {
   "cell_type": "code",
   "execution_count": 14,
   "metadata": {
    "scrolled": true
   },
   "outputs": [
    {
     "name": "stderr",
     "output_type": "stream",
     "text": [
      "/g/data3/hh5/public/apps/miniconda3/envs/analysis3-20.04/lib/python3.7/site-packages/iris/analysis/cartography.py:394: UserWarning: Using DEFAULT_SPHERICAL_EARTH_RADIUS.\n",
      "  warnings.warn(\"Using DEFAULT_SPHERICAL_EARTH_RADIUS.\")\n"
     ]
    },
    {
     "name": "stdout",
     "output_type": "stream",
     "text": [
      "air_temperature / (K)               (time: 1032)\n",
      "     Dimension coordinates:\n",
      "          time                           x\n",
      "     Auxiliary coordinates:\n",
      "          clim_year                      x\n",
      "     Scalar coordinates:\n",
      "          height: 2.0 m\n",
      "          latitude: 0.0 degrees, bound=(-89.62225042184065, 89.62225042184065) degrees\n",
      "          longitude: 179.296875 degrees, bound=(-0.703125, 359.296875) degrees\n",
      "     Attributes:\n",
      "          CMIP6_CV_version: cv=6.2.3.0-7-g2019642\n",
      "          Conventions: CF-1.7 CMIP-6.2\n",
      "          EXPID: CNRM-CM6-1_ssp585_r1i1p1f2\n",
      "          activity_id: ScenarioMIP\n",
      "          arpege_minor_version: 6.3.2\n",
      "          branch_method: standard\n",
      "          branch_time_in_child: 60265.0\n",
      "          branch_time_in_parent: 60265.0\n",
      "          contact: contact.cmip@meteo.fr\n",
      "          creation_date: 2018-11-15T10:50:50Z\n",
      "          data_specs_version: 01.00.21\n",
      "          description: Near-Surface Air Temperature\n",
      "          dr2xml_md5sum: c2dce418e78ca835be1e2ff817c2c403\n",
      "          dr2xml_version: 1.16\n",
      "          experiment: update of RCP8.5 based on SSP5\n",
      "          experiment_id: ssp585\n",
      "          external_variables: areacella\n",
      "          forcing_index: 2\n",
      "          frequency: mon\n",
      "          further_info_url: https://furtherinfo.es-doc.org/CMIP6.CNRM-CERFACS.CNRM-CM6-1.ssp585.no...\n",
      "          grid: data regridded to a T127 gaussian grid (128x256 latlon) from a native atmosphere...\n",
      "          grid_label: gr\n",
      "          history: none\n",
      "          initialization_index: 1\n",
      "          institution: CNRM (Centre National de Recherches Meteorologiques, Toulouse 31057, France),...\n",
      "          institution_id: CNRM-CERFACS\n",
      "          interval_operation: 900 s\n",
      "          interval_write: 1 month\n",
      "          license: CMIP6 model data produced by CNRM-CERFACS is licensed under a Creative...\n",
      "          mip_era: CMIP6\n",
      "          nemo_gelato_commit: 49095b3accd5d4c_6524fe19b00467a\n",
      "          nominal_resolution: 250 km\n",
      "          online_operation: average\n",
      "          parent_activity_id: CMIP\n",
      "          parent_experiment_id: historical\n",
      "          parent_mip_era: CMIP6\n",
      "          parent_source_id: CNRM-CM6-1\n",
      "          parent_time_units: days since 1850-01-01 00:00:00\n",
      "          parent_variant_label: r1i1p1f2\n",
      "          physics_index: 1\n",
      "          product: model-output\n",
      "          realization_index: 1\n",
      "          realm: atmos\n",
      "          references: http://www.umr-cnrm.fr/cmip6/references\n",
      "          source: CNRM-CM6-1 (2017):  aerosol: prescribed monthly fields computed by TACTIC_v2...\n",
      "          source_id: CNRM-CM6-1\n",
      "          source_type: AOGCM\n",
      "          sub_experiment: none\n",
      "          sub_experiment_id: none\n",
      "          table_id: Amon\n",
      "          title: CNRM-CM6-1 model output prepared for CMIP6 / ScenarioMIP ssp585\n",
      "          tracking_id: hdl:21.14100/a4acca74-001d-4953-b6a1-29086f2749b1\n",
      "          variable_id: tas\n",
      "          variant_label: r1i1p1f2\n",
      "          xios_commit: 1442-shuffle\n",
      "     Cell methods:\n",
      "          mean: area, time\n",
      "          mean: longitude, latitude\n"
     ]
    }
   ],
   "source": [
    "# Calcuolate global average\n",
    "import iris.analysis.cartography\n",
    "cube.coord('latitude').guess_bounds()\n",
    "cube.coord('longitude').guess_bounds()\n",
    "grid_areas = iris.analysis.cartography.area_weights(cube)\n",
    "global_mean_cube = cube.collapsed(['longitude', 'latitude'], iris.analysis.MEAN, weights=grid_areas)\n",
    "print(global_mean_cube)"
   ]
  },
  {
   "cell_type": "code",
   "execution_count": 15,
   "metadata": {},
   "outputs": [
    {
     "name": "stdout",
     "output_type": "stream",
     "text": [
      "air_temperature / (K)               (time: 86)\n",
      "     Dimension coordinates:\n",
      "          time                           x\n",
      "     Auxiliary coordinates:\n",
      "          clim_year                      x\n",
      "     Scalar coordinates:\n",
      "          height: 2.0 m\n",
      "          latitude: 0.0 degrees, bound=(-89.62225042184065, 89.62225042184065) degrees\n",
      "          longitude: 179.296875 degrees, bound=(-0.703125, 359.296875) degrees\n",
      "     Attributes:\n",
      "          CMIP6_CV_version: cv=6.2.3.0-7-g2019642\n",
      "          Conventions: CF-1.7 CMIP-6.2\n",
      "          EXPID: CNRM-CM6-1_ssp585_r1i1p1f2\n",
      "          activity_id: ScenarioMIP\n",
      "          arpege_minor_version: 6.3.2\n",
      "          branch_method: standard\n",
      "          branch_time_in_child: 60265.0\n",
      "          branch_time_in_parent: 60265.0\n",
      "          contact: contact.cmip@meteo.fr\n",
      "          creation_date: 2018-11-15T10:50:50Z\n",
      "          data_specs_version: 01.00.21\n",
      "          description: Near-Surface Air Temperature\n",
      "          dr2xml_md5sum: c2dce418e78ca835be1e2ff817c2c403\n",
      "          dr2xml_version: 1.16\n",
      "          experiment: update of RCP8.5 based on SSP5\n",
      "          experiment_id: ssp585\n",
      "          external_variables: areacella\n",
      "          forcing_index: 2\n",
      "          frequency: mon\n",
      "          further_info_url: https://furtherinfo.es-doc.org/CMIP6.CNRM-CERFACS.CNRM-CM6-1.ssp585.no...\n",
      "          grid: data regridded to a T127 gaussian grid (128x256 latlon) from a native atmosphere...\n",
      "          grid_label: gr\n",
      "          history: none\n",
      "          initialization_index: 1\n",
      "          institution: CNRM (Centre National de Recherches Meteorologiques, Toulouse 31057, France),...\n",
      "          institution_id: CNRM-CERFACS\n",
      "          interval_operation: 900 s\n",
      "          interval_write: 1 month\n",
      "          license: CMIP6 model data produced by CNRM-CERFACS is licensed under a Creative...\n",
      "          mip_era: CMIP6\n",
      "          nemo_gelato_commit: 49095b3accd5d4c_6524fe19b00467a\n",
      "          nominal_resolution: 250 km\n",
      "          online_operation: average\n",
      "          parent_activity_id: CMIP\n",
      "          parent_experiment_id: historical\n",
      "          parent_mip_era: CMIP6\n",
      "          parent_source_id: CNRM-CM6-1\n",
      "          parent_time_units: days since 1850-01-01 00:00:00\n",
      "          parent_variant_label: r1i1p1f2\n",
      "          physics_index: 1\n",
      "          product: model-output\n",
      "          realization_index: 1\n",
      "          realm: atmos\n",
      "          references: http://www.umr-cnrm.fr/cmip6/references\n",
      "          source: CNRM-CM6-1 (2017):  aerosol: prescribed monthly fields computed by TACTIC_v2...\n",
      "          source_id: CNRM-CM6-1\n",
      "          source_type: AOGCM\n",
      "          sub_experiment: none\n",
      "          sub_experiment_id: none\n",
      "          table_id: Amon\n",
      "          title: CNRM-CM6-1 model output prepared for CMIP6 / ScenarioMIP ssp585\n",
      "          tracking_id: hdl:21.14100/a4acca74-001d-4953-b6a1-29086f2749b1\n",
      "          variable_id: tas\n",
      "          variant_label: r1i1p1f2\n",
      "          xios_commit: 1442-shuffle\n",
      "     Cell methods:\n",
      "          mean: area, time\n",
      "          mean: longitude, latitude\n",
      "          mean: clim_year\n"
     ]
    }
   ],
   "source": [
    "# Calculate annual average\n",
    "annual_mean = global_mean_cube.aggregated_by(['clim_year'], iris.analysis.MEAN)\n",
    "print(annual_mean)"
   ]
  },
  {
   "cell_type": "markdown",
   "metadata": {},
   "source": [
    "### Plotting"
   ]
  },
  {
   "cell_type": "code",
   "execution_count": 16,
   "metadata": {},
   "outputs": [
    {
     "data": {
      "text/plain": [
       "[<matplotlib.lines.Line2D at 0x7f515dbd6190>]"
      ]
     },
     "execution_count": 16,
     "metadata": {},
     "output_type": "execute_result"
    },
    {
     "data": {
      "image/png": "[encoded data removed]",
      "text/plain": [
       "<Figure size 432x288 with 1 Axes>"
      ]
     },
     "metadata": {
      "needs_background": "light"
     },
     "output_type": "display_data"
    }
   ],
   "source": [
    "import iris.quickplot as qplt\n",
    "qplt.plot(annual_mean, label='ssp585 scenario', lw=1.5, color='blue')"
   ]
  },
  {
   "cell_type": "code",
   "execution_count": null,
   "metadata": {},
   "outputs": [],
   "source": []
  }
 ],
 "metadata": {
  "kernelspec": {
   "display_name": "Python 3",
   "language": "python",
   "name": "python3"
  },
  "language_info": {
   "codemirror_mode": {
    "name": "ipython",
    "version": 3
   },
   "file_extension": ".py",
   "mimetype": "text/x-python",
   "name": "python",
   "nbconvert_exporter": "python",
   "pygments_lexer": "ipython3",
   "version": "3.7.4"
  }
 },
 "nbformat": 4,
 "nbformat_minor": 4
}
