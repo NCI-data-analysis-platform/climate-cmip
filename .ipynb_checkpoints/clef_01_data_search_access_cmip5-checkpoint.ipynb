{
 "cells": [
  {
   "cell_type": "markdown",
   "metadata": {},
   "source": [
    "# Clef Search and Access CMIP5 Data"
   ]
  },
  {
   "cell_type": "markdown",
   "metadata": {},
   "source": [
    "In this notebook we demonstrate how to search CMIP datasets using Clef and programmatic access data.\n",
    "\n",
    "* Use Clef CMIPs data searching tool \n",
    "* Programmatic access CMIP5 data\n",
    "\n",
    "This example uses Coupled Model Intercomparison Project (CMIP5) collections. For more information, please visit [data catalogue](https://geonetwork.nci.org.au/geonetwork/srv/eng/catalog.search#/metadata/f3525_9322_8600_7716) and [terms of use](https://cmip.llnl.gov/cmip5/terms.html).\n",
    "\n",
    "---"
   ]
  },
  {
   "cell_type": "markdown",
   "metadata": {},
   "source": [
    "- Authors: NCI Virtual Research Environment Team\n",
    "- Keywords: CMIP, Clef, Xarray\n",
    "- Create Date: 2019-Nov; Update Date: 2020-Apr"
   ]
  },
  {
   "cell_type": "markdown",
   "metadata": {},
   "source": [
    "## Clef\n",
    "\n",
    "Clef searches the Earth System Grid Federation datasets stored at the Australian National Computational Infrastructure, both data published on the NCI ESGF node as well as files that are locally replicated from other ESGF nodes. For more information about the tool, please visit [Clef's documentation site](https://clef.readthedocs.io/en/latest/gettingstarted.html).\n",
    "\n",
    "We use Clef to search CMIP5 data path. Clef is available within /g/data/hh5/public/modules analysis3 packages. "
   ]
  },
  {
   "cell_type": "markdown",
   "metadata": {},
   "source": [
    "#### Load Clef "
   ]
  },
  {
   "cell_type": "code",
   "execution_count": null,
   "metadata": {},
   "outputs": [],
   "source": [
    "!module use /g/data/hh5/public/modules\n",
    "!module load conda/analysis3-unstable"
   ]
  },
  {
   "cell_type": "markdown",
   "metadata": {},
   "source": [
    "### Import python packages"
   ]
  },
  {
   "cell_type": "code",
   "execution_count": null,
   "metadata": {},
   "outputs": [],
   "source": [
    "import xarray as xr\n",
    "%matplotlib inline"
   ]
  },
  {
   "cell_type": "markdown",
   "metadata": {},
   "source": [
    "### Use Clef -cmip5 to serach data"
   ]
  },
  {
   "cell_type": "markdown",
   "metadata": {},
   "source": [
    "First, check out help information to see search options in clef cmip5."
   ]
  },
  {
   "cell_type": "code",
   "execution_count": null,
   "metadata": {
    "collapsed": true,
    "jupyter": {
     "outputs_hidden": true
    }
   },
   "outputs": [],
   "source": [
    "!clef cmip5 --help"
   ]
  },
  {
   "cell_type": "markdown",
   "metadata": {},
   "source": [
    "Then, we will search available temperature and precipitation data by defining all the parameters. See example below:"
   ]
  },
  {
   "cell_type": "code",
   "execution_count": null,
   "metadata": {
    "collapsed": true,
    "jupyter": {
     "outputs_hidden": true
    }
   },
   "outputs": [],
   "source": [
    "!clef cmip5  --experiment rcp26  --ensemble r1i1p1 --table Amon   --variable tas --variable pr"
   ]
  },
  {
   "cell_type": "markdown",
   "metadata": {},
   "source": [
    "We can then set up values for CMIP5 attributions according to the CleF search results.\n",
    "\n",
    "CMIP5 data are organised according to its global attributes. We can access different data by changing attributes in the directory below:\n",
    "**/g/data1b/al33/replicas/CMIP5/product/institute/model/experiment/frequency/realm/table/ensemble/version/variable**\n",
    "\n",
    "There are four Representative Concentration Pathways (RCPs) in CMIP5. These are greenhouse gas concentration (not emissions) trajectory adopted by the IPCC for its fifth Assessment Report (AR5) in 2014. It supersedes the Special Report on Emissions Scenarios (SRES) projections published in 2000. For more information, see [here]( https://sedac.ciesin.columbia.edu/ddc/ar5_scenario_process/RCPs.html).\n",
    " \n",
    "\n",
    "Below, we have set up these attributes in order to get the future projection data under the rcp26 senario using member 'r1i1p1' of 'MIROC-ESM' model simulations as an example. "
   ]
  },
  {
   "cell_type": "markdown",
   "metadata": {},
   "source": [
    "<div class=\"alert alert-warning\">\n",
    "<b>NOTE: </b>Due to different DRS (Directory Reference Structure) between CMIP5 and CMIP6, search syntax using clef is slightly different between two datasets. They have to be strictly consistent with each DRS tree and they are also case sensitive.   \n",
    "</div>"
   ]
  },
  {
   "cell_type": "markdown",
   "metadata": {},
   "source": [
    "Below is an example of using wrong DRS structure to search CMIP data."
   ]
  },
  {
   "cell_type": "code",
   "execution_count": null,
   "metadata": {
    "collapsed": true,
    "jupyter": {
     "outputs_hidden": true
    },
    "scrolled": true
   },
   "outputs": [],
   "source": [
    "!clef cmip5  --activity ScenarioMIP  --source_id  CNRM-CM6-1 --table Amon  --variable tas  --variable pr   --grid gr "
   ]
  },
  {
   "cell_type": "markdown",
   "metadata": {},
   "source": [
    "### Show data file names"
   ]
  },
  {
   "cell_type": "code",
   "execution_count": 6,
   "metadata": {},
   "outputs": [
    {
     "name": "stdout",
     "output_type": "stream",
     "text": [
      "tas_Amon_MIROC-ESM_rcp26_r1i1p1_200601-210012.nc\n"
     ]
    }
   ],
   "source": [
    "!ls /g/data1b/al33/replicas/CMIP5/combined/MIROC/MIROC-ESM/rcp26/mon/atmos/Amon/r1i1p1/v20120710/tas/"
   ]
  },
  {
   "cell_type": "code",
   "execution_count": 7,
   "metadata": {},
   "outputs": [
    {
     "name": "stdout",
     "output_type": "stream",
     "text": [
      "pr_Amon_MIROC-ESM_rcp26_r1i1p1_200601-210012.nc\n"
     ]
    }
   ],
   "source": [
    "!ls /g/data1b/al33/replicas/CMIP5/combined/MIROC/MIROC-ESM/rcp26/mon/atmos/Amon/r1i1p1/v20120710/pr/"
   ]
  },
  {
   "cell_type": "markdown",
   "metadata": {},
   "source": [
    "### Use Xarray to open data"
   ]
  },
  {
   "cell_type": "markdown",
   "metadata": {},
   "source": [
    "#### First the near surface temperature data"
   ]
  },
  {
   "cell_type": "code",
   "execution_count": 2,
   "metadata": {},
   "outputs": [
    {
     "data": {
      "text/html": [
       "<pre>&lt;xarray.DataArray &#x27;tas&#x27; (time: 1140, lat: 64, lon: 128)&gt;\n",
       "[9338880 values with dtype=float32]\n",
       "Coordinates:\n",
       "  * time     (time) datetime64[ns] 2006-01-16T12:00:00 ... 2100-12-16T12:00:00\n",
       "  * lat      (lat) float64 -87.86 -85.1 -82.31 -79.53 ... 79.53 82.31 85.1 87.86\n",
       "  * lon      (lon) float64 0.0 2.812 5.625 8.438 ... 348.8 351.6 354.4 357.2\n",
       "    height   float64 ...\n",
       "Attributes:\n",
       "    standard_name:     air_temperature\n",
       "    long_name:         Near-Surface Air Temperature\n",
       "    units:             K\n",
       "    original_name:     T2\n",
       "    cell_methods:      time: mean\n",
       "    cell_measures:     area: areacella\n",
       "    history:           2011-09-13T04:34:56Z altered by CMOR: Treated scalar d...\n",
       "    associated_files:  baseURL: http://cmip-pcmdi.llnl.gov/CMIP5/dataLocation...</pre>"
      ],
      "text/plain": [
       "<xarray.DataArray 'tas' (time: 1140, lat: 64, lon: 128)>\n",
       "[9338880 values with dtype=float32]\n",
       "Coordinates:\n",
       "  * time     (time) datetime64[ns] 2006-01-16T12:00:00 ... 2100-12-16T12:00:00\n",
       "  * lat      (lat) float64 -87.86 -85.1 -82.31 -79.53 ... 79.53 82.31 85.1 87.86\n",
       "  * lon      (lon) float64 0.0 2.812 5.625 8.438 ... 348.8 351.6 354.4 357.2\n",
       "    height   float64 ...\n",
       "Attributes:\n",
       "    standard_name:     air_temperature\n",
       "    long_name:         Near-Surface Air Temperature\n",
       "    units:             K\n",
       "    original_name:     T2\n",
       "    cell_methods:      time: mean\n",
       "    cell_measures:     area: areacella\n",
       "    history:           2011-09-13T04:34:56Z altered by CMOR: Treated scalar d...\n",
       "    associated_files:  baseURL: http://cmip-pcmdi.llnl.gov/CMIP5/dataLocation..."
      ]
     },
     "execution_count": 2,
     "metadata": {},
     "output_type": "execute_result"
    }
   ],
   "source": [
    "cmip5Dir='/g/data1b/al33/replicas/CMIP5'\n",
    "product='combined'\n",
    "institute='MIROC'\n",
    "model='MIROC-ESM'\n",
    "experiment='rcp26' \n",
    "frenquency='mon'\n",
    "realm='atmos'\n",
    "table='Amon'\n",
    "ensemble='r1i1p1'\n",
    "version='v20120710'\n",
    "variable='tas'  \n",
    "period='200601-210012'\n",
    "ds=xr.open_dataset(''+cmip5Dir+'/'+product+'/'+institute+'/'+model+'/'+experiment+'/'+frenquency+'/'+realm+'/'+table+'/'+ensemble+'/'+version+'/'+variable+'/'+variable+'_'+table+'_'+model+'_'+experiment+'_'+ensemble+'_'+period+'.nc')\n",
    "tas=ds.tas\n",
    "tas"
   ]
  },
  {
   "cell_type": "markdown",
   "metadata": {},
   "source": [
    "#### Then the precipitation data"
   ]
  },
  {
   "cell_type": "code",
   "execution_count": 3,
   "metadata": {},
   "outputs": [
    {
     "data": {
      "text/html": [
       "<pre>&lt;xarray.DataArray &#x27;pr&#x27; (time: 1140, lat: 64, lon: 128)&gt;\n",
       "[9338880 values with dtype=float32]\n",
       "Coordinates:\n",
       "  * time     (time) datetime64[ns] 2006-01-16T12:00:00 ... 2100-12-16T12:00:00\n",
       "  * lat      (lat) float64 -87.86 -85.1 -82.31 -79.53 ... 79.53 82.31 85.1 87.86\n",
       "  * lon      (lon) float64 0.0 2.812 5.625 8.438 ... 348.8 351.6 354.4 357.2\n",
       "Attributes:\n",
       "    standard_name:     precipitation_flux\n",
       "    long_name:         Precipitation\n",
       "    comment:           at surface; includes both liquid and solid phases from...\n",
       "    units:             kg m-2 s-1\n",
       "    original_name:     PRCP\n",
       "    original_units:    kg/m**2/s\n",
       "    history:           2011-09-13T04:36:18Z altered by CMOR: Converted units ...\n",
       "    cell_methods:      time: mean\n",
       "    cell_measures:     area: areacella\n",
       "    associated_files:  baseURL: http://cmip-pcmdi.llnl.gov/CMIP5/dataLocation...</pre>"
      ],
      "text/plain": [
       "<xarray.DataArray 'pr' (time: 1140, lat: 64, lon: 128)>\n",
       "[9338880 values with dtype=float32]\n",
       "Coordinates:\n",
       "  * time     (time) datetime64[ns] 2006-01-16T12:00:00 ... 2100-12-16T12:00:00\n",
       "  * lat      (lat) float64 -87.86 -85.1 -82.31 -79.53 ... 79.53 82.31 85.1 87.86\n",
       "  * lon      (lon) float64 0.0 2.812 5.625 8.438 ... 348.8 351.6 354.4 357.2\n",
       "Attributes:\n",
       "    standard_name:     precipitation_flux\n",
       "    long_name:         Precipitation\n",
       "    comment:           at surface; includes both liquid and solid phases from...\n",
       "    units:             kg m-2 s-1\n",
       "    original_name:     PRCP\n",
       "    original_units:    kg/m**2/s\n",
       "    history:           2011-09-13T04:36:18Z altered by CMOR: Converted units ...\n",
       "    cell_methods:      time: mean\n",
       "    cell_measures:     area: areacella\n",
       "    associated_files:  baseURL: http://cmip-pcmdi.llnl.gov/CMIP5/dataLocation..."
      ]
     },
     "execution_count": 3,
     "metadata": {},
     "output_type": "execute_result"
    }
   ],
   "source": [
    "cmip5Dir='/g/data1b/al33/replicas/CMIP5'\n",
    "product='combined'\n",
    "institute='MIROC'\n",
    "model='MIROC-ESM'\n",
    "experiment='rcp26' \n",
    "frenquency='mon'\n",
    "realm='atmos'\n",
    "table='Amon'\n",
    "ensemble='r1i1p1'\n",
    "version='v20120710'\n",
    "variable='pr'  \n",
    "period='200601-210012'\n",
    "ds=xr.open_dataset(''+cmip5Dir+'/'+product+'/'+institute+'/'+model+'/'+experiment+'/'+frenquency+'/'+realm+'/'+table+'/'+ensemble+'/'+version+'/'+variable+'/'+variable+'_'+table+'_'+model+'_'+experiment+'_'+ensemble+'_'+period+'.nc')\n",
    "pr=ds.pr\n",
    "pr"
   ]
  },
  {
   "cell_type": "markdown",
   "metadata": {},
   "source": [
    "#### You can then loop over multiple datasets using the formular above.\n",
    "\n",
    "Now show the multiple files:"
   ]
  },
  {
   "cell_type": "code",
   "execution_count": null,
   "metadata": {
    "collapsed": true,
    "jupyter": {
     "outputs_hidden": true
    }
   },
   "outputs": [],
   "source": [
    "!ls /g/data1b/al33/replicas/CMIP5/combined/MIROC/MIROC-ESM/rcp26/day/ocean/day/r1i1p1/v20111129/tos/"
   ]
  },
  {
   "cell_type": "code",
   "execution_count": 4,
   "metadata": {},
   "outputs": [
    {
     "data": {
      "text/plain": [
       "['/g/data1b/al33/replicas/CMIP5/combined/MIROC/MIROC-ESM/rcp26/day/ocean/day/r1i1p1/v20111129/tos/tos_day_MIROC-ESM_rcp26_r1i1p1_20060101-20251231.nc',\n",
       " '/g/data1b/al33/replicas/CMIP5/combined/MIROC/MIROC-ESM/rcp26/day/ocean/day/r1i1p1/v20111129/tos/tos_day_MIROC-ESM_rcp26_r1i1p1_20260101-20451231.nc',\n",
       " '/g/data1b/al33/replicas/CMIP5/combined/MIROC/MIROC-ESM/rcp26/day/ocean/day/r1i1p1/v20111129/tos/tos_day_MIROC-ESM_rcp26_r1i1p1_20460101-20651231.nc',\n",
       " '/g/data1b/al33/replicas/CMIP5/combined/MIROC/MIROC-ESM/rcp26/day/ocean/day/r1i1p1/v20111129/tos/tos_day_MIROC-ESM_rcp26_r1i1p1_20660101-20851231.nc']"
      ]
     },
     "execution_count": 4,
     "metadata": {},
     "output_type": "execute_result"
    }
   ],
   "source": [
    "cmip5Dir='/g/data1b/al33/replicas/CMIP5'\n",
    "product='combined'\n",
    "institute='MIROC'\n",
    "model='MIROC-ESM'\n",
    "experiment='rcp26' \n",
    "frenquency='day'\n",
    "realm='ocean'\n",
    "table='day'\n",
    "ensemble='r1i1p1'\n",
    "version='v20111129'\n",
    "variable='tos'  \n",
    "files=[f'{cmip5Dir}/{product}/{institute}/{model}/{experiment}/{frenquency}/{realm}/{table}/{ensemble}/{version}/{variable}/{variable}_{frenquency}_{model}_{experiment}_{ensemble}_{year}0101-{year+19}1231.nc' for year in range(2006, 2086, 20)]\n",
    "files"
   ]
  },
  {
   "cell_type": "markdown",
   "metadata": {},
   "source": [
    "#### read multiple files into one dataset"
   ]
  },
  {
   "cell_type": "code",
   "execution_count": null,
   "metadata": {},
   "outputs": [],
   "source": [
    "ds=xr.open_mfdataset(files)\n",
    "ds"
   ]
  },
  {
   "cell_type": "markdown",
   "metadata": {},
   "source": [
    "#### let's look at the sea surface tempreture"
   ]
  },
  {
   "cell_type": "code",
   "execution_count": null,
   "metadata": {},
   "outputs": [],
   "source": [
    "tos=ds.tos\n",
    "tos"
   ]
  },
  {
   "cell_type": "markdown",
   "metadata": {},
   "source": [
    "### Summary\n",
    "\n",
    "In this example, we show how to use Clef tool to search the available CMIP5 data on Gadi and use xarray to open one dataset or programmatically open multiple datasets at onece based on CMIP5 Directory Reference Structure."
   ]
  }
 ],
 "metadata": {
  "kernelspec": {
   "display_name": "Python 3",
   "language": "python",
   "name": "python3"
  },
  "language_info": {
   "codemirror_mode": {
    "name": "ipython",
    "version": 3
   },
   "file_extension": ".py",
   "mimetype": "text/x-python",
   "name": "python",
   "nbconvert_exporter": "python",
   "pygments_lexer": "ipython3",
   "version": "3.7.4"
  }
 },
 "nbformat": 4,
 "nbformat_minor": 4
}
