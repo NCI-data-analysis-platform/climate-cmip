{
 "cells": [
  {
   "cell_type": "markdown",
   "metadata": {},
   "source": [
    "# Quick view of data info and content using HDFView \n",
    "\n",
    "\n",
    "In this notebook we demonstrate how to access CMIP6 data in HDFView.\n",
    "\n",
    "* Load data\n",
    "* View the content\n",
    "* Create a hdf file from scratch\n",
    "\n",
    "This example uses Coupled Model Intercomparison Project (CMIP6) collections. For more information, please visit [data catalogue]( https://geonetwork.nci.org.au/geonetwork/srv/eng/catalog.search#/metadata/f6600_2266_8675_3563) and [terms of use]( https://pcmdi.llnl.gov/CMIP6/TermsOfUse/TermsOfUse6-1.html).\n",
    "   \n",
    "---------"
   ]
  },
  {
   "cell_type": "markdown",
   "metadata": {},
   "source": [
    "- Authors: NCI Virtual Research Environment Team\n",
    "- Keywords: CMIP, HDFView, NetCDF\n",
    "- Create Date: 2020-Apr; Update Date: 2020-Apr"
   ]
  },
  {
   "cell_type": "markdown",
   "metadata": {},
   "source": [
    "### Prerequisite\n",
    "\n",
    "To run this notebook on Gadi/VDI, or on your local computer, make sure the following software is installed: \n",
    "* HDFView\n",
    "\n",
    "You also need to be a member of the following data project:\n",
    "* oi10\n",
    "\n",
    "You can request to join the project through [NCI's user account management system](https://my.nci.org.au). "
   ]
  },
  {
   "cell_type": "markdown",
   "metadata": {},
   "source": [
    "### HDFView\n",
    "\n",
    "HDFView is a visual tool written in Java for browsing and editing HDF (HDF5 and HDF4) files. Using HDFView, you can:\n",
    "\n",
    "* View a file hierarchy in a tree structure\n",
    "* Create new files, add or delete groups and datasets\n",
    "* View and modify the content of a dataset\n",
    "* Add, delete and modify attributes"
   ]
  },
  {
   "cell_type": "markdown",
   "metadata": {},
   "source": [
    "### Open a file in HDFView\n",
    "\n",
    "Click `Open` icon on the up/left corner, it will prompt a window asking you to pick the file for your directory. By default, HDFView only recognize files with appendix of `.h5, .hdf4, .hdf, .h4, .he5, .he, .hdf5`. If you want to open a NetCDF4 file, you need to tick the option `All files` from the drop down menu in the open dialogue box. Once you choose the file, click `Open`. The file will be loaded into HDFView. You can view the attribute information by clicking each variable name on the left of the panel. \n",
    "\n",
    "![](images/HDFView1.png)\n",
    "\n",
    "Or you can check other general information by clicking the right tab. For example, performance related parameter of the data, such as, chunking size, compression level and shuffle filter parameters are included in this session.\n",
    "\n",
    "![](images/HDFView2.png)"
   ]
  },
  {
   "cell_type": "markdown",
   "metadata": {},
   "source": [
    "### Create a HDF4/5 file from scratch\n",
    "\n",
    "From the menu of HDFView, choose `File | New | HDF5`. A new object will appear in the left panel. You can then add attributes and variables from scratch by defining them from the GUI. \n",
    "\n",
    "![](images/HDFView3.png)"
   ]
  },
  {
   "cell_type": "markdown",
   "metadata": {},
   "source": [
    "### Summary\n",
    "\n",
    "In this example, we show how to do access a netCDF file using HDFView and options to create HDF5 datasets on Gadi and through URL. The same approach applies to other data collections. Please visit [Xarray](http://xarray.pydata.org/en/stable/) for more information."
   ]
  }
 ],
 "metadata": {
  "anaconda-cloud": {},
  "kernelspec": {
   "display_name": "Python 3",
   "language": "python",
   "name": "python3"
  },
  "language_info": {
   "codemirror_mode": {
    "name": "ipython",
    "version": 3
   },
   "file_extension": ".py",
   "mimetype": "text/x-python",
   "name": "python",
   "nbconvert_exporter": "python",
   "pygments_lexer": "ipython3",
   "version": "3.7.3"
  }
 },
 "nbformat": 4,
 "nbformat_minor": 1
}
